{
 "cells": [
  {
   "cell_type": "markdown",
   "metadata": {},
   "source": [
    "# DATA PREPROCESSSING"
   ]
  },
  {
   "cell_type": "code",
   "execution_count": 86,
   "metadata": {},
   "outputs": [
    {
     "name": "stderr",
     "output_type": "stream",
     "text": [
      "C:\\Users\\ASUS\\AppData\\Local\\Temp\\ipykernel_19916\\3640598637.py:4: ParserWarning: Falling back to the 'python' engine because the 'c' engine does not support regex separators (separators > 1 char and different from '\\s+' are interpreted as regex); you can avoid this warning by specifying engine='python'.\n",
      "  DATA=pd.read_csv(\"dataset/train_data.csv\",delimiter=\":::\")\n"
     ]
    }
   ],
   "source": [
    "import numpy as np\n",
    "import pandas as pd\n",
    "\n",
    "DATA=pd.read_csv(\"dataset/train_data.csv\",delimiter=\":::\")"
   ]
  },
  {
   "cell_type": "code",
   "execution_count": 87,
   "metadata": {},
   "outputs": [
    {
     "data": {
      "text/html": [
       "<div>\n",
       "<style scoped>\n",
       "    .dataframe tbody tr th:only-of-type {\n",
       "        vertical-align: middle;\n",
       "    }\n",
       "\n",
       "    .dataframe tbody tr th {\n",
       "        vertical-align: top;\n",
       "    }\n",
       "\n",
       "    .dataframe thead th {\n",
       "        text-align: right;\n",
       "    }\n",
       "</style>\n",
       "<table border=\"1\" class=\"dataframe\">\n",
       "  <thead>\n",
       "    <tr style=\"text-align: right;\">\n",
       "      <th></th>\n",
       "      <th>ID</th>\n",
       "      <th>NOM</th>\n",
       "      <th>GENRE</th>\n",
       "      <th>DESCRIPTION</th>\n",
       "    </tr>\n",
       "  </thead>\n",
       "  <tbody>\n",
       "    <tr>\n",
       "      <th>0</th>\n",
       "      <td>1</td>\n",
       "      <td>Oscar et la dame rose (2009)</td>\n",
       "      <td>drama</td>\n",
       "      <td>Listening in to a conversation between his do...</td>\n",
       "    </tr>\n",
       "    <tr>\n",
       "      <th>1</th>\n",
       "      <td>2</td>\n",
       "      <td>Cupid (1997)</td>\n",
       "      <td>thriller</td>\n",
       "      <td>A brother and sister with a past incestuous r...</td>\n",
       "    </tr>\n",
       "    <tr>\n",
       "      <th>2</th>\n",
       "      <td>\"3</td>\n",
       "      <td>Young, Wild and Wonderful (1980)</td>\n",
       "      <td>adult</td>\n",
       "      <td>As the bus empties the students for their fie...</td>\n",
       "    </tr>\n",
       "    <tr>\n",
       "      <th>3</th>\n",
       "      <td>4</td>\n",
       "      <td>The Secret Sin (1915)</td>\n",
       "      <td>drama</td>\n",
       "      <td>To help their unemployed father make ends mee...</td>\n",
       "    </tr>\n",
       "    <tr>\n",
       "      <th>4</th>\n",
       "      <td>5</td>\n",
       "      <td>The Unrecovered (2007)</td>\n",
       "      <td>drama</td>\n",
       "      <td>The film's title refers not only to the un-re...</td>\n",
       "    </tr>\n",
       "  </tbody>\n",
       "</table>\n",
       "</div>"
      ],
      "text/plain": [
       "    ID                                 NOM       GENRE  \\\n",
       "0   1        Oscar et la dame rose (2009)       drama    \n",
       "1   2                        Cupid (1997)    thriller    \n",
       "2  \"3    Young, Wild and Wonderful (1980)       adult    \n",
       "3   4               The Secret Sin (1915)       drama    \n",
       "4   5              The Unrecovered (2007)       drama    \n",
       "\n",
       "                                         DESCRIPTION  \n",
       "0   Listening in to a conversation between his do...  \n",
       "1   A brother and sister with a past incestuous r...  \n",
       "2   As the bus empties the students for their fie...  \n",
       "3   To help their unemployed father make ends mee...  \n",
       "4   The film's title refers not only to the un-re...  "
      ]
     },
     "execution_count": 87,
     "metadata": {},
     "output_type": "execute_result"
    }
   ],
   "source": [
    "DATA.head()"
   ]
  },
  {
   "cell_type": "code",
   "execution_count": 88,
   "metadata": {},
   "outputs": [
    {
     "data": {
      "text/plain": [
       "ID             0\n",
       "NOM            0\n",
       "GENRE          0\n",
       "DESCRIPTION    0\n",
       "dtype: int64"
      ]
     },
     "execution_count": 88,
     "metadata": {},
     "output_type": "execute_result"
    }
   ],
   "source": [
    "DATA.isna().sum()"
   ]
  },
  {
   "cell_type": "code",
   "execution_count": 89,
   "metadata": {},
   "outputs": [
    {
     "data": {
      "text/html": [
       "<div>\n",
       "<style scoped>\n",
       "    .dataframe tbody tr th:only-of-type {\n",
       "        vertical-align: middle;\n",
       "    }\n",
       "\n",
       "    .dataframe tbody tr th {\n",
       "        vertical-align: top;\n",
       "    }\n",
       "\n",
       "    .dataframe thead th {\n",
       "        text-align: right;\n",
       "    }\n",
       "</style>\n",
       "<table border=\"1\" class=\"dataframe\">\n",
       "  <thead>\n",
       "    <tr style=\"text-align: right;\">\n",
       "      <th></th>\n",
       "      <th>ID</th>\n",
       "      <th>NOM</th>\n",
       "      <th>GENRE</th>\n",
       "      <th>DESCRIPTION</th>\n",
       "    </tr>\n",
       "  </thead>\n",
       "  <tbody>\n",
       "    <tr>\n",
       "      <th>count</th>\n",
       "      <td>54214</td>\n",
       "      <td>54214</td>\n",
       "      <td>54214</td>\n",
       "      <td>54214</td>\n",
       "    </tr>\n",
       "    <tr>\n",
       "      <th>unique</th>\n",
       "      <td>54214</td>\n",
       "      <td>54214</td>\n",
       "      <td>27</td>\n",
       "      <td>54091</td>\n",
       "    </tr>\n",
       "    <tr>\n",
       "      <th>top</th>\n",
       "      <td>1</td>\n",
       "      <td>Oscar et la dame rose (2009)</td>\n",
       "      <td>drama</td>\n",
       "      <td>Grammy - music award of the American academy ...</td>\n",
       "    </tr>\n",
       "    <tr>\n",
       "      <th>freq</th>\n",
       "      <td>1</td>\n",
       "      <td>1</td>\n",
       "      <td>13613</td>\n",
       "      <td>12</td>\n",
       "    </tr>\n",
       "  </tbody>\n",
       "</table>\n",
       "</div>"
      ],
      "text/plain": [
       "           ID                             NOM    GENRE  \\\n",
       "count   54214                           54214    54214   \n",
       "unique  54214                           54214       27   \n",
       "top        1    Oscar et la dame rose (2009)    drama    \n",
       "freq        1                               1    13613   \n",
       "\n",
       "                                              DESCRIPTION  \n",
       "count                                               54214  \n",
       "unique                                              54091  \n",
       "top      Grammy - music award of the American academy ...  \n",
       "freq                                                   12  "
      ]
     },
     "execution_count": 89,
     "metadata": {},
     "output_type": "execute_result"
    }
   ],
   "source": [
    "DATA.describe()"
   ]
  },
  {
   "cell_type": "code",
   "execution_count": 90,
   "metadata": {},
   "outputs": [
    {
     "data": {
      "text/plain": [
       "array([' drama ', ' thriller ', ' adult ', ' documentary ', ' comedy ',\n",
       "       ' crime ', ' reality-tv ', ' horror ', ' sport ', ' animation ',\n",
       "       ' action ', ' fantasy ', ' short ', ' sci-fi ', ' music ',\n",
       "       ' adventure ', ' talk-show ', ' western ', ' family ', ' mystery ',\n",
       "       ' history ', ' news ', ' biography ', ' romance ', ' game-show ',\n",
       "       ' musical ', ' war '], dtype=object)"
      ]
     },
     "execution_count": 90,
     "metadata": {},
     "output_type": "execute_result"
    }
   ],
   "source": [
    "DATA['GENRE'].unique()"
   ]
  },
  {
   "cell_type": "markdown",
   "metadata": {},
   "source": [
    "we need to affect eash genre with a number, called class"
   ]
  },
  {
   "cell_type": "code",
   "execution_count": 91,
   "metadata": {},
   "outputs": [
    {
     "name": "stdout",
     "output_type": "stream",
     "text": [
      "GENRE\n",
      " drama           13613\n",
      " documentary     13096\n",
      " comedy           7447\n",
      " short            5073\n",
      " horror           2204\n",
      " thriller         1591\n",
      " action           1315\n",
      " western          1032\n",
      " reality-tv        884\n",
      " family            784\n",
      " adventure         775\n",
      " music             731\n",
      " romance           672\n",
      " sci-fi            647\n",
      " adult             590\n",
      " crime             505\n",
      " animation         498\n",
      " sport             432\n",
      " talk-show         391\n",
      " fantasy           323\n",
      " mystery           319\n",
      " musical           277\n",
      " biography         265\n",
      " history           243\n",
      " game-show         194\n",
      " news              181\n",
      " war               132\n",
      "Name: count, dtype: int64\n"
     ]
    }
   ],
   "source": [
    "number_in_genre=DATA['GENRE'].value_counts()\n",
    "print(number_in_genre)"
   ]
  },
  {
   "cell_type": "code",
   "execution_count": 92,
   "metadata": {},
   "outputs": [
    {
     "data": {
      "text/plain": [
       "Text(0, 0.5, 'genre')"
      ]
     },
     "execution_count": 92,
     "metadata": {},
     "output_type": "execute_result"
    },
    {
     "data": {
      "image/png": "[encoded data removed]",
      "text/plain": [
       "<Figure size 640x480 with 1 Axes>"
      ]
     },
     "metadata": {},
     "output_type": "display_data"
    }
   ],
   "source": [
    "import seaborn as sns\n",
    "import matplotlib.pyplot as plt\n",
    "\n",
    "sns.countplot(data=DATA,y=\"GENRE\",order=DATA['GENRE'].value_counts().index)\n",
    "plt.xlabel(\"number\")\n",
    "plt.ylabel(\"genre\")"
   ]
  },
  {
   "cell_type": "code",
   "execution_count": 93,
   "metadata": {},
   "outputs": [
    {
     "name": "stderr",
     "output_type": "stream",
     "text": [
      "C:\\Users\\ASUS\\AppData\\Local\\Temp\\ipykernel_19916\\1156193875.py:1: ParserWarning: Falling back to the 'python' engine because the 'c' engine does not support regex separators (separators > 1 char and different from '\\s+' are interpreted as regex); you can avoid this warning by specifying engine='python'.\n",
      "  DATA=pd.read_csv(\"dataset/train_data.csv\",delimiter=\":::\")\n"
     ]
    }
   ],
   "source": [
    "DATA=pd.read_csv(\"dataset/train_data.csv\",delimiter=\":::\")"
   ]
  },
  {
   "cell_type": "code",
   "execution_count": 94,
   "metadata": {},
   "outputs": [],
   "source": [
    "Classes = {\n",
    "    'drama': 0,\n",
    "    'thriller': 1,\n",
    "    'adult': 3,\n",
    "    'documentary': 4,\n",
    "    'comedy': 5,\n",
    "    'crime': 6,\n",
    "    'reality-tv': 7,\n",
    "    'horror': 8,\n",
    "    'sport': 9,\n",
    "    'animation': 10,\n",
    "    'action': 11,\n",
    "    'fantasy': 12,\n",
    "    'short': 13,\n",
    "    'sci-fi': 14,\n",
    "    'music': 15,\n",
    "    'adventure': 16,\n",
    "    'talk-show': 17,\n",
    "    'western': 18,\n",
    "    'family': 19,\n",
    "    'mystery': 20,\n",
    "    'history': 21,\n",
    "    'news': 22,\n",
    "    'biography': 23,\n",
    "    'romance': 24,\n",
    "    'game-show': 25,\n",
    "    'musical': 26,\n",
    "    'war': 27\n",
    "}\n",
    "DATA['GENRE'] = DATA['GENRE'].str.strip()\n",
    "DATA['GENRE'] = DATA['GENRE'].replace(Classes)\n"
   ]
  },
  {
   "cell_type": "code",
   "execution_count": 95,
   "metadata": {},
   "outputs": [
    {
     "data": {
      "text/html": [
       "<div>\n",
       "<style scoped>\n",
       "    .dataframe tbody tr th:only-of-type {\n",
       "        vertical-align: middle;\n",
       "    }\n",
       "\n",
       "    .dataframe tbody tr th {\n",
       "        vertical-align: top;\n",
       "    }\n",
       "\n",
       "    .dataframe thead th {\n",
       "        text-align: right;\n",
       "    }\n",
       "</style>\n",
       "<table border=\"1\" class=\"dataframe\">\n",
       "  <thead>\n",
       "    <tr style=\"text-align: right;\">\n",
       "      <th></th>\n",
       "      <th>ID</th>\n",
       "      <th>NOM</th>\n",
       "      <th>GENRE</th>\n",
       "      <th>DESCRIPTION</th>\n",
       "    </tr>\n",
       "  </thead>\n",
       "  <tbody>\n",
       "    <tr>\n",
       "      <th>0</th>\n",
       "      <td>1</td>\n",
       "      <td>Oscar et la dame rose (2009)</td>\n",
       "      <td>0</td>\n",
       "      <td>Listening in to a conversation between his do...</td>\n",
       "    </tr>\n",
       "    <tr>\n",
       "      <th>1</th>\n",
       "      <td>2</td>\n",
       "      <td>Cupid (1997)</td>\n",
       "      <td>1</td>\n",
       "      <td>A brother and sister with a past incestuous r...</td>\n",
       "    </tr>\n",
       "    <tr>\n",
       "      <th>2</th>\n",
       "      <td>\"3</td>\n",
       "      <td>Young, Wild and Wonderful (1980)</td>\n",
       "      <td>3</td>\n",
       "      <td>As the bus empties the students for their fie...</td>\n",
       "    </tr>\n",
       "    <tr>\n",
       "      <th>3</th>\n",
       "      <td>4</td>\n",
       "      <td>The Secret Sin (1915)</td>\n",
       "      <td>0</td>\n",
       "      <td>To help their unemployed father make ends mee...</td>\n",
       "    </tr>\n",
       "    <tr>\n",
       "      <th>4</th>\n",
       "      <td>5</td>\n",
       "      <td>The Unrecovered (2007)</td>\n",
       "      <td>0</td>\n",
       "      <td>The film's title refers not only to the un-re...</td>\n",
       "    </tr>\n",
       "  </tbody>\n",
       "</table>\n",
       "</div>"
      ],
      "text/plain": [
       "    ID                                 NOM  GENRE  \\\n",
       "0   1        Oscar et la dame rose (2009)       0   \n",
       "1   2                        Cupid (1997)       1   \n",
       "2  \"3    Young, Wild and Wonderful (1980)       3   \n",
       "3   4               The Secret Sin (1915)       0   \n",
       "4   5              The Unrecovered (2007)       0   \n",
       "\n",
       "                                         DESCRIPTION  \n",
       "0   Listening in to a conversation between his do...  \n",
       "1   A brother and sister with a past incestuous r...  \n",
       "2   As the bus empties the students for their fie...  \n",
       "3   To help their unemployed father make ends mee...  \n",
       "4   The film's title refers not only to the un-re...  "
      ]
     },
     "execution_count": 95,
     "metadata": {},
     "output_type": "execute_result"
    }
   ],
   "source": [
    "DATA.head(5)"
   ]
  },
  {
   "cell_type": "code",
   "execution_count": 96,
   "metadata": {},
   "outputs": [
    {
     "name": "stderr",
     "output_type": "stream",
     "text": [
      "[nltk_data] Downloading package stopwords to\n",
      "[nltk_data]     C:\\Users\\ASUS\\AppData\\Roaming\\nltk_data...\n",
      "[nltk_data]   Package stopwords is already up-to-date!\n"
     ]
    },
    {
     "data": {
      "text/plain": [
       "True"
      ]
     },
     "execution_count": 96,
     "metadata": {},
     "output_type": "execute_result"
    }
   ],
   "source": [
    "\n",
    "import nltk\n",
    "\n",
    "nltk.download('stopwords')"
   ]
  },
  {
   "cell_type": "code",
   "execution_count": 97,
   "metadata": {},
   "outputs": [],
   "source": [
    "import string\n",
    "\n",
    "DATA['DESCRIPTION'] = DATA['DESCRIPTION'].astype(str)\n",
    "\n",
    "DATA['DESCRIPTION'] = DATA['DESCRIPTION'].str.lower().str.replace('[{}]'.format(string.punctuation), '').str.split()\n"
   ]
  },
  {
   "cell_type": "code",
   "execution_count": 98,
   "metadata": {},
   "outputs": [
    {
     "data": {
      "text/html": [
       "<div>\n",
       "<style scoped>\n",
       "    .dataframe tbody tr th:only-of-type {\n",
       "        vertical-align: middle;\n",
       "    }\n",
       "\n",
       "    .dataframe tbody tr th {\n",
       "        vertical-align: top;\n",
       "    }\n",
       "\n",
       "    .dataframe thead th {\n",
       "        text-align: right;\n",
       "    }\n",
       "</style>\n",
       "<table border=\"1\" class=\"dataframe\">\n",
       "  <thead>\n",
       "    <tr style=\"text-align: right;\">\n",
       "      <th></th>\n",
       "      <th>ID</th>\n",
       "      <th>NOM</th>\n",
       "      <th>GENRE</th>\n",
       "      <th>DESCRIPTION</th>\n",
       "    </tr>\n",
       "  </thead>\n",
       "  <tbody>\n",
       "    <tr>\n",
       "      <th>0</th>\n",
       "      <td>1</td>\n",
       "      <td>Oscar et la dame rose (2009)</td>\n",
       "      <td>0</td>\n",
       "      <td>[listening, in, to, a, conversation, between, ...</td>\n",
       "    </tr>\n",
       "    <tr>\n",
       "      <th>1</th>\n",
       "      <td>2</td>\n",
       "      <td>Cupid (1997)</td>\n",
       "      <td>1</td>\n",
       "      <td>[a, brother, and, sister, with, a, past, inces...</td>\n",
       "    </tr>\n",
       "    <tr>\n",
       "      <th>2</th>\n",
       "      <td>\"3</td>\n",
       "      <td>Young, Wild and Wonderful (1980)</td>\n",
       "      <td>3</td>\n",
       "      <td>[as, the, bus, empties, the, students, for, th...</td>\n",
       "    </tr>\n",
       "    <tr>\n",
       "      <th>3</th>\n",
       "      <td>4</td>\n",
       "      <td>The Secret Sin (1915)</td>\n",
       "      <td>0</td>\n",
       "      <td>[to, help, their, unemployed, father, make, en...</td>\n",
       "    </tr>\n",
       "    <tr>\n",
       "      <th>4</th>\n",
       "      <td>5</td>\n",
       "      <td>The Unrecovered (2007)</td>\n",
       "      <td>0</td>\n",
       "      <td>[the, film's, title, refers, not, only, to, th...</td>\n",
       "    </tr>\n",
       "  </tbody>\n",
       "</table>\n",
       "</div>"
      ],
      "text/plain": [
       "    ID                                 NOM  GENRE  \\\n",
       "0   1        Oscar et la dame rose (2009)       0   \n",
       "1   2                        Cupid (1997)       1   \n",
       "2  \"3    Young, Wild and Wonderful (1980)       3   \n",
       "3   4               The Secret Sin (1915)       0   \n",
       "4   5              The Unrecovered (2007)       0   \n",
       "\n",
       "                                         DESCRIPTION  \n",
       "0  [listening, in, to, a, conversation, between, ...  \n",
       "1  [a, brother, and, sister, with, a, past, inces...  \n",
       "2  [as, the, bus, empties, the, students, for, th...  \n",
       "3  [to, help, their, unemployed, father, make, en...  \n",
       "4  [the, film's, title, refers, not, only, to, th...  "
      ]
     },
     "execution_count": 98,
     "metadata": {},
     "output_type": "execute_result"
    }
   ],
   "source": [
    "DATA.head()"
   ]
  },
  {
   "cell_type": "code",
   "execution_count": 99,
   "metadata": {},
   "outputs": [
    {
     "data": {
      "text/plain": [
       "['listening',\n",
       " 'in',\n",
       " 'to',\n",
       " 'a',\n",
       " 'conversation',\n",
       " 'between',\n",
       " 'his',\n",
       " 'doctor',\n",
       " 'and',\n",
       " 'parents,',\n",
       " '10-year-old',\n",
       " 'oscar',\n",
       " 'learns',\n",
       " 'what',\n",
       " 'nobody',\n",
       " 'has',\n",
       " 'the',\n",
       " 'courage',\n",
       " 'to',\n",
       " 'tell',\n",
       " 'him.',\n",
       " 'he',\n",
       " 'only',\n",
       " 'has',\n",
       " 'a',\n",
       " 'few',\n",
       " 'weeks',\n",
       " 'to',\n",
       " 'live.',\n",
       " 'furious,',\n",
       " 'he',\n",
       " 'refuses',\n",
       " 'to',\n",
       " 'speak',\n",
       " 'to',\n",
       " 'anyone',\n",
       " 'except',\n",
       " 'straight-talking',\n",
       " 'rose,',\n",
       " 'the',\n",
       " 'lady',\n",
       " 'in',\n",
       " 'pink',\n",
       " 'he',\n",
       " 'meets',\n",
       " 'on',\n",
       " 'the',\n",
       " 'hospital',\n",
       " 'stairs.',\n",
       " 'as',\n",
       " 'christmas',\n",
       " 'approaches,',\n",
       " 'rose',\n",
       " 'uses',\n",
       " 'her',\n",
       " 'fantastical',\n",
       " 'experiences',\n",
       " 'as',\n",
       " 'a',\n",
       " 'professional',\n",
       " 'wrestler,',\n",
       " 'her',\n",
       " 'imagination,',\n",
       " 'wit',\n",
       " 'and',\n",
       " 'charm',\n",
       " 'to',\n",
       " 'allow',\n",
       " 'oscar',\n",
       " 'to',\n",
       " 'live',\n",
       " 'life',\n",
       " 'and',\n",
       " 'love',\n",
       " 'to',\n",
       " 'the',\n",
       " 'full,',\n",
       " 'in',\n",
       " 'the',\n",
       " 'company',\n",
       " 'of',\n",
       " 'his',\n",
       " 'friends',\n",
       " 'pop',\n",
       " 'corn,',\n",
       " 'einstein,',\n",
       " 'bacon',\n",
       " 'and',\n",
       " 'childhood',\n",
       " 'sweetheart',\n",
       " 'peggy',\n",
       " 'blue.;;;;;;;;;;;;;;;;;;;;;;;;;;;;;;;;;;;;;;;;;;;;;;;;;;;;;;;;;']"
      ]
     },
     "execution_count": 99,
     "metadata": {},
     "output_type": "execute_result"
    }
   ],
   "source": [
    "DATA['DESCRIPTION'][0]"
   ]
  },
  {
   "cell_type": "markdown",
   "metadata": {},
   "source": [
    "as we see , this is a good why to delete the pounctuation , and slipt the data, now we must delete the words like 'to' 'in'.."
   ]
  },
  {
   "cell_type": "code",
   "execution_count": 100,
   "metadata": {},
   "outputs": [],
   "source": [
    "import nltk\n",
    "from nltk.corpus import stopwords\n",
    "\n",
    "stop_words = set(stopwords.words('english'))\n",
    "DATA['DESCRIPTION'] =DATA['DESCRIPTION'].apply(lambda x: [word for word in x if word not in stop_words]) "
   ]
  },
  {
   "cell_type": "code",
   "execution_count": 101,
   "metadata": {},
   "outputs": [
    {
     "data": {
      "text/html": [
       "<div>\n",
       "<style scoped>\n",
       "    .dataframe tbody tr th:only-of-type {\n",
       "        vertical-align: middle;\n",
       "    }\n",
       "\n",
       "    .dataframe tbody tr th {\n",
       "        vertical-align: top;\n",
       "    }\n",
       "\n",
       "    .dataframe thead th {\n",
       "        text-align: right;\n",
       "    }\n",
       "</style>\n",
       "<table border=\"1\" class=\"dataframe\">\n",
       "  <thead>\n",
       "    <tr style=\"text-align: right;\">\n",
       "      <th></th>\n",
       "      <th>ID</th>\n",
       "      <th>NOM</th>\n",
       "      <th>GENRE</th>\n",
       "      <th>DESCRIPTION</th>\n",
       "    </tr>\n",
       "  </thead>\n",
       "  <tbody>\n",
       "    <tr>\n",
       "      <th>0</th>\n",
       "      <td>1</td>\n",
       "      <td>Oscar et la dame rose (2009)</td>\n",
       "      <td>0</td>\n",
       "      <td>[listening, conversation, doctor, parents,, 10...</td>\n",
       "    </tr>\n",
       "    <tr>\n",
       "      <th>1</th>\n",
       "      <td>2</td>\n",
       "      <td>Cupid (1997)</td>\n",
       "      <td>1</td>\n",
       "      <td>[brother, sister, past, incestuous, relationsh...</td>\n",
       "    </tr>\n",
       "    <tr>\n",
       "      <th>2</th>\n",
       "      <td>\"3</td>\n",
       "      <td>Young, Wild and Wonderful (1980)</td>\n",
       "      <td>3</td>\n",
       "      <td>[bus, empties, students, field, trip, museum, ...</td>\n",
       "    </tr>\n",
       "    <tr>\n",
       "      <th>3</th>\n",
       "      <td>4</td>\n",
       "      <td>The Secret Sin (1915)</td>\n",
       "      <td>0</td>\n",
       "      <td>[help, unemployed, father, make, ends, meet,, ...</td>\n",
       "    </tr>\n",
       "    <tr>\n",
       "      <th>4</th>\n",
       "      <td>5</td>\n",
       "      <td>The Unrecovered (2007)</td>\n",
       "      <td>0</td>\n",
       "      <td>[film's, title, refers, un-recovered, bodies, ...</td>\n",
       "    </tr>\n",
       "  </tbody>\n",
       "</table>\n",
       "</div>"
      ],
      "text/plain": [
       "    ID                                 NOM  GENRE  \\\n",
       "0   1        Oscar et la dame rose (2009)       0   \n",
       "1   2                        Cupid (1997)       1   \n",
       "2  \"3    Young, Wild and Wonderful (1980)       3   \n",
       "3   4               The Secret Sin (1915)       0   \n",
       "4   5              The Unrecovered (2007)       0   \n",
       "\n",
       "                                         DESCRIPTION  \n",
       "0  [listening, conversation, doctor, parents,, 10...  \n",
       "1  [brother, sister, past, incestuous, relationsh...  \n",
       "2  [bus, empties, students, field, trip, museum, ...  \n",
       "3  [help, unemployed, father, make, ends, meet,, ...  \n",
       "4  [film's, title, refers, un-recovered, bodies, ...  "
      ]
     },
     "execution_count": 101,
     "metadata": {},
     "output_type": "execute_result"
    }
   ],
   "source": [
    "DATA.head()"
   ]
  },
  {
   "cell_type": "code",
   "execution_count": 102,
   "metadata": {},
   "outputs": [
    {
     "data": {
      "text/plain": [
       "['listening',\n",
       " 'conversation',\n",
       " 'doctor',\n",
       " 'parents,',\n",
       " '10-year-old',\n",
       " 'oscar',\n",
       " 'learns',\n",
       " 'nobody',\n",
       " 'courage',\n",
       " 'tell',\n",
       " 'him.',\n",
       " 'weeks',\n",
       " 'live.',\n",
       " 'furious,',\n",
       " 'refuses',\n",
       " 'speak',\n",
       " 'anyone',\n",
       " 'except',\n",
       " 'straight-talking',\n",
       " 'rose,',\n",
       " 'lady',\n",
       " 'pink',\n",
       " 'meets',\n",
       " 'hospital',\n",
       " 'stairs.',\n",
       " 'christmas',\n",
       " 'approaches,',\n",
       " 'rose',\n",
       " 'uses',\n",
       " 'fantastical',\n",
       " 'experiences',\n",
       " 'professional',\n",
       " 'wrestler,',\n",
       " 'imagination,',\n",
       " 'wit',\n",
       " 'charm',\n",
       " 'allow',\n",
       " 'oscar',\n",
       " 'live',\n",
       " 'life',\n",
       " 'love',\n",
       " 'full,',\n",
       " 'company',\n",
       " 'friends',\n",
       " 'pop',\n",
       " 'corn,',\n",
       " 'einstein,',\n",
       " 'bacon',\n",
       " 'childhood',\n",
       " 'sweetheart',\n",
       " 'peggy',\n",
       " 'blue.;;;;;;;;;;;;;;;;;;;;;;;;;;;;;;;;;;;;;;;;;;;;;;;;;;;;;;;;;']"
      ]
     },
     "execution_count": 102,
     "metadata": {},
     "output_type": "execute_result"
    }
   ],
   "source": [
    "DATA['DESCRIPTION'][0]"
   ]
  },
  {
   "cell_type": "markdown",
   "metadata": {},
   "source": [
    "AS WE SEE THE STOPWORDS IN ENGLISH ARE DELETED.e can calculate the number of words still in the description"
   ]
  },
  {
   "cell_type": "code",
   "execution_count": 103,
   "metadata": {},
   "outputs": [
    {
     "data": {
      "text/html": [
       "<div>\n",
       "<style scoped>\n",
       "    .dataframe tbody tr th:only-of-type {\n",
       "        vertical-align: middle;\n",
       "    }\n",
       "\n",
       "    .dataframe tbody tr th {\n",
       "        vertical-align: top;\n",
       "    }\n",
       "\n",
       "    .dataframe thead th {\n",
       "        text-align: right;\n",
       "    }\n",
       "</style>\n",
       "<table border=\"1\" class=\"dataframe\">\n",
       "  <thead>\n",
       "    <tr style=\"text-align: right;\">\n",
       "      <th></th>\n",
       "      <th>ID</th>\n",
       "      <th>NOM</th>\n",
       "      <th>GENRE</th>\n",
       "      <th>DESCRIPTION</th>\n",
       "      <th>NUMBER_OF_WORDS</th>\n",
       "    </tr>\n",
       "  </thead>\n",
       "  <tbody>\n",
       "    <tr>\n",
       "      <th>0</th>\n",
       "      <td>1</td>\n",
       "      <td>Oscar et la dame rose (2009)</td>\n",
       "      <td>0</td>\n",
       "      <td>[listening, conversation, doctor, parents,, 10...</td>\n",
       "      <td>52</td>\n",
       "    </tr>\n",
       "    <tr>\n",
       "      <th>1</th>\n",
       "      <td>2</td>\n",
       "      <td>Cupid (1997)</td>\n",
       "      <td>1</td>\n",
       "      <td>[brother, sister, past, incestuous, relationsh...</td>\n",
       "      <td>16</td>\n",
       "    </tr>\n",
       "    <tr>\n",
       "      <th>2</th>\n",
       "      <td>\"3</td>\n",
       "      <td>Young, Wild and Wonderful (1980)</td>\n",
       "      <td>3</td>\n",
       "      <td>[bus, empties, students, field, trip, museum, ...</td>\n",
       "      <td>58</td>\n",
       "    </tr>\n",
       "    <tr>\n",
       "      <th>3</th>\n",
       "      <td>4</td>\n",
       "      <td>The Secret Sin (1915)</td>\n",
       "      <td>0</td>\n",
       "      <td>[help, unemployed, father, make, ends, meet,, ...</td>\n",
       "      <td>111</td>\n",
       "    </tr>\n",
       "    <tr>\n",
       "      <th>4</th>\n",
       "      <td>5</td>\n",
       "      <td>The Unrecovered (2007)</td>\n",
       "      <td>0</td>\n",
       "      <td>[film's, title, refers, un-recovered, bodies, ...</td>\n",
       "      <td>57</td>\n",
       "    </tr>\n",
       "  </tbody>\n",
       "</table>\n",
       "</div>"
      ],
      "text/plain": [
       "    ID                                 NOM  GENRE  \\\n",
       "0   1        Oscar et la dame rose (2009)       0   \n",
       "1   2                        Cupid (1997)       1   \n",
       "2  \"3    Young, Wild and Wonderful (1980)       3   \n",
       "3   4               The Secret Sin (1915)       0   \n",
       "4   5              The Unrecovered (2007)       0   \n",
       "\n",
       "                                         DESCRIPTION  NUMBER_OF_WORDS  \n",
       "0  [listening, conversation, doctor, parents,, 10...               52  \n",
       "1  [brother, sister, past, incestuous, relationsh...               16  \n",
       "2  [bus, empties, students, field, trip, museum, ...               58  \n",
       "3  [help, unemployed, father, make, ends, meet,, ...              111  \n",
       "4  [film's, title, refers, un-recovered, bodies, ...               57  "
      ]
     },
     "execution_count": 103,
     "metadata": {},
     "output_type": "execute_result"
    }
   ],
   "source": [
    "DATA['NUMBER_OF_WORDS']=DATA['DESCRIPTION'].apply(len)\n",
    "DATA.head()"
   ]
  },
  {
   "cell_type": "markdown",
   "metadata": {},
   "source": [
    "WE CAN now think of lemmatization,that change the words on the source of the word"
   ]
  },
  {
   "cell_type": "code",
   "execution_count": 104,
   "metadata": {},
   "outputs": [
    {
     "name": "stderr",
     "output_type": "stream",
     "text": [
      "[nltk_data] Downloading package wordnet to\n",
      "[nltk_data]     C:\\Users\\ASUS\\AppData\\Roaming\\nltk_data...\n",
      "[nltk_data]   Package wordnet is already up-to-date!\n"
     ]
    }
   ],
   "source": [
    "from nltk.stem import WordNetLemmatizer\n",
    "nltk.download('wordnet')\n",
    "\n",
    "lemmatizer = WordNetLemmatizer()\n"
   ]
  },
  {
   "cell_type": "code",
   "execution_count": 105,
   "metadata": {},
   "outputs": [
    {
     "data": {
      "text/plain": [
       "0    [listening, conversation, doctor, parents,, 10...\n",
       "1    [brother, sister, past, incestuous, relationsh...\n",
       "2    [bus, empty, student, field, trip, museum, nat...\n",
       "3    [help, unemployed, father, make, end, meet,, e...\n",
       "4    [film's, title, refers, un-recovered, body, gr...\n",
       "Name: DESCRIPTION, dtype: object"
      ]
     },
     "execution_count": 105,
     "metadata": {},
     "output_type": "execute_result"
    }
   ],
   "source": [
    "DATA['DESCRIPTION']=DATA['DESCRIPTION'].apply(lambda x:[lemmatizer.lemmatize(word) for word in x])\n",
    "DATA['DESCRIPTION'].head()"
   ]
  },
  {
   "cell_type": "code",
   "execution_count": 106,
   "metadata": {},
   "outputs": [
    {
     "data": {
      "text/plain": [
       "0    [listening, conversation, doctor, parents,, 10...\n",
       "1    [brother, sister, past, incestuous, relationsh...\n",
       "2    [bus, empty, student, field, trip, museum, nat...\n",
       "3    [help, unemployed, father, make, end, meet,, e...\n",
       "4    [film's, title, refers, un-recovered, body, gr...\n",
       "Name: DESCRIPTION, dtype: object"
      ]
     },
     "execution_count": 106,
     "metadata": {},
     "output_type": "execute_result"
    }
   ],
   "source": [
    "DATA['DESCRIPTION'].head()"
   ]
  },
  {
   "cell_type": "markdown",
   "metadata": {},
   "source": [
    "NOT ALL THE WORDS ARE TRANSFORMED BUT ITS GOOD ACTUALLY"
   ]
  },
  {
   "cell_type": "code",
   "execution_count": 107,
   "metadata": {},
   "outputs": [],
   "source": [
    "from sklearn.feature_extraction.text import CountVectorizer\n",
    "\n",
    "count = CountVectorizer(max_features=10000, ngram_range=(1, 2))\n",
    "\n",
    "\n",
    "DATA['DESCRIPTION'] = DATA['DESCRIPTION'].apply(lambda x: ' '.join(x))\n",
    "#i do this because fit-transform want a string in the argument \n",
    "\n",
    "X = count.fit_transform(DATA['DESCRIPTION'])\n",
    "\n",
    "Y = DATA['GENRE'].values\n",
    "\n"
   ]
  },
  {
   "cell_type": "code",
   "execution_count": 108,
   "metadata": {},
   "outputs": [
    {
     "data": {
      "text/html": [
       "<style>#sk-container-id-4 {color: black;}#sk-container-id-4 pre{padding: 0;}#sk-container-id-4 div.sk-toggleable {background-color: white;}#sk-container-id-4 label.sk-toggleable__label {cursor: pointer;display: block;width: 100%;margin-bottom: 0;padding: 0.3em;box-sizing: border-box;text-align: center;}#sk-container-id-4 label.sk-toggleable__label-arrow:before {content: \"▸\";float: left;margin-right: 0.25em;color: #696969;}#sk-container-id-4 label.sk-toggleable__label-arrow:hover:before {color: black;}#sk-container-id-4 div.sk-estimator:hover label.sk-toggleable__label-arrow:before {color: black;}#sk-container-id-4 div.sk-toggleable__content {max-height: 0;max-width: 0;overflow: hidden;text-align: left;background-color: #f0f8ff;}#sk-container-id-4 div.sk-toggleable__content pre {margin: 0.2em;color: black;border-radius: 0.25em;background-color: #f0f8ff;}#sk-container-id-4 input.sk-toggleable__control:checked~div.sk-toggleable__content {max-height: 200px;max-width: 100%;overflow: auto;}#sk-container-id-4 input.sk-toggleable__control:checked~label.sk-toggleable__label-arrow:before {content: \"▾\";}#sk-container-id-4 div.sk-estimator input.sk-toggleable__control:checked~label.sk-toggleable__label {background-color: #d4ebff;}#sk-container-id-4 div.sk-label input.sk-toggleable__control:checked~label.sk-toggleable__label {background-color: #d4ebff;}#sk-container-id-4 input.sk-hidden--visually {border: 0;clip: rect(1px 1px 1px 1px);clip: rect(1px, 1px, 1px, 1px);height: 1px;margin: -1px;overflow: hidden;padding: 0;position: absolute;width: 1px;}#sk-container-id-4 div.sk-estimator {font-family: monospace;background-color: #f0f8ff;border: 1px dotted black;border-radius: 0.25em;box-sizing: border-box;margin-bottom: 0.5em;}#sk-container-id-4 div.sk-estimator:hover {background-color: #d4ebff;}#sk-container-id-4 div.sk-parallel-item::after {content: \"\";width: 100%;border-bottom: 1px solid gray;flex-grow: 1;}#sk-container-id-4 div.sk-label:hover label.sk-toggleable__label {background-color: #d4ebff;}#sk-container-id-4 div.sk-serial::before {content: \"\";position: absolute;border-left: 1px solid gray;box-sizing: border-box;top: 0;bottom: 0;left: 50%;z-index: 0;}#sk-container-id-4 div.sk-serial {display: flex;flex-direction: column;align-items: center;background-color: white;padding-right: 0.2em;padding-left: 0.2em;position: relative;}#sk-container-id-4 div.sk-item {position: relative;z-index: 1;}#sk-container-id-4 div.sk-parallel {display: flex;align-items: stretch;justify-content: center;background-color: white;position: relative;}#sk-container-id-4 div.sk-item::before, #sk-container-id-4 div.sk-parallel-item::before {content: \"\";position: absolute;border-left: 1px solid gray;box-sizing: border-box;top: 0;bottom: 0;left: 50%;z-index: -1;}#sk-container-id-4 div.sk-parallel-item {display: flex;flex-direction: column;z-index: 1;position: relative;background-color: white;}#sk-container-id-4 div.sk-parallel-item:first-child::after {align-self: flex-end;width: 50%;}#sk-container-id-4 div.sk-parallel-item:last-child::after {align-self: flex-start;width: 50%;}#sk-container-id-4 div.sk-parallel-item:only-child::after {width: 0;}#sk-container-id-4 div.sk-dashed-wrapped {border: 1px dashed gray;margin: 0 0.4em 0.5em 0.4em;box-sizing: border-box;padding-bottom: 0.4em;background-color: white;}#sk-container-id-4 div.sk-label label {font-family: monospace;font-weight: bold;display: inline-block;line-height: 1.2em;}#sk-container-id-4 div.sk-label-container {text-align: center;}#sk-container-id-4 div.sk-container {/* jupyter's `normalize.less` sets `[hidden] { display: none; }` but bootstrap.min.css set `[hidden] { display: none !important; }` so we also need the `!important` here to be able to override the default hidden behavior on the sphinx rendered scikit-learn.org. See: https://github.com/scikit-learn/scikit-learn/issues/21755 */display: inline-block !important;position: relative;}#sk-container-id-4 div.sk-text-repr-fallback {display: none;}</style><div id=\"sk-container-id-4\" class=\"sk-top-container\"><div class=\"sk-text-repr-fallback\"><pre>MultinomialNB(alpha=0.1)</pre><b>In a Jupyter environment, please rerun this cell to show the HTML representation or trust the notebook. <br />On GitHub, the HTML representation is unable to render, please try loading this page with nbviewer.org.</b></div><div class=\"sk-container\" hidden><div class=\"sk-item\"><div class=\"sk-estimator sk-toggleable\"><input class=\"sk-toggleable__control sk-hidden--visually\" id=\"sk-estimator-id-4\" type=\"checkbox\" checked><label for=\"sk-estimator-id-4\" class=\"sk-toggleable__label sk-toggleable__label-arrow\">MultinomialNB</label><div class=\"sk-toggleable__content\"><pre>MultinomialNB(alpha=0.1)</pre></div></div></div></div></div>"
      ],
      "text/plain": [
       "MultinomialNB(alpha=0.1)"
      ]
     },
     "execution_count": 108,
     "metadata": {},
     "output_type": "execute_result"
    }
   ],
   "source": [
    "\n",
    "from sklearn.naive_bayes import MultinomialNB\n",
    "classifier=MultinomialNB(alpha=0.1)\n",
    "classifier.fit(X,Y)"
   ]
  },
  {
   "cell_type": "markdown",
   "metadata": {},
   "source": [
    "mnow we can read our test data , and predict and compare the result\n",
    "without forgetting that i added a header to my data at the beggining"
   ]
  },
  {
   "cell_type": "code",
   "execution_count": 110,
   "metadata": {},
   "outputs": [
    {
     "name": "stderr",
     "output_type": "stream",
     "text": [
      "C:\\Users\\ASUS\\AppData\\Local\\Temp\\ipykernel_19916\\1791413481.py:1: ParserWarning: Falling back to the 'python' engine because the 'c' engine does not support regex separators (separators > 1 char and different from '\\s+' are interpreted as regex); you can avoid this warning by specifying engine='python'.\n",
      "  test_DATA=pd.read_csv(\"dataset/test_data.txt\",delimiter=\":::\")\n"
     ]
    },
    {
     "data": {
      "text/html": [
       "<div>\n",
       "<style scoped>\n",
       "    .dataframe tbody tr th:only-of-type {\n",
       "        vertical-align: middle;\n",
       "    }\n",
       "\n",
       "    .dataframe tbody tr th {\n",
       "        vertical-align: top;\n",
       "    }\n",
       "\n",
       "    .dataframe thead th {\n",
       "        text-align: right;\n",
       "    }\n",
       "</style>\n",
       "<table border=\"1\" class=\"dataframe\">\n",
       "  <thead>\n",
       "    <tr style=\"text-align: right;\">\n",
       "      <th></th>\n",
       "      <th>ID</th>\n",
       "      <th>NOM</th>\n",
       "      <th>DESCRIPTION</th>\n",
       "    </tr>\n",
       "  </thead>\n",
       "  <tbody>\n",
       "    <tr>\n",
       "      <th>0</th>\n",
       "      <td>1</td>\n",
       "      <td>Edgar's Lunch (1998)</td>\n",
       "      <td>L.R. Brane loves his life - his car, his apar...</td>\n",
       "    </tr>\n",
       "    <tr>\n",
       "      <th>1</th>\n",
       "      <td>2</td>\n",
       "      <td>La guerra de papá (1977)</td>\n",
       "      <td>Spain, March 1964: Quico is a very naughty ch...</td>\n",
       "    </tr>\n",
       "    <tr>\n",
       "      <th>2</th>\n",
       "      <td>3</td>\n",
       "      <td>Off the Beaten Track (2010)</td>\n",
       "      <td>One year in the life of Albin and his family ...</td>\n",
       "    </tr>\n",
       "    <tr>\n",
       "      <th>3</th>\n",
       "      <td>4</td>\n",
       "      <td>Meu Amigo Hindu (2015)</td>\n",
       "      <td>His father has died, he hasn't spoken with hi...</td>\n",
       "    </tr>\n",
       "    <tr>\n",
       "      <th>4</th>\n",
       "      <td>5</td>\n",
       "      <td>Er nu zhai (1955)</td>\n",
       "      <td>Before he was known internationally as a mart...</td>\n",
       "    </tr>\n",
       "  </tbody>\n",
       "</table>\n",
       "</div>"
      ],
      "text/plain": [
       "   ID                            NOM  \\\n",
       "0   1          Edgar's Lunch (1998)    \n",
       "1   2      La guerra de papá (1977)    \n",
       "2   3   Off the Beaten Track (2010)    \n",
       "3   4        Meu Amigo Hindu (2015)    \n",
       "4   5             Er nu zhai (1955)    \n",
       "\n",
       "                                         DESCRIPTION  \n",
       "0   L.R. Brane loves his life - his car, his apar...  \n",
       "1   Spain, March 1964: Quico is a very naughty ch...  \n",
       "2   One year in the life of Albin and his family ...  \n",
       "3   His father has died, he hasn't spoken with hi...  \n",
       "4   Before he was known internationally as a mart...  "
      ]
     },
     "execution_count": 110,
     "metadata": {},
     "output_type": "execute_result"
    }
   ],
   "source": [
    "test_DATA=pd.read_csv(\"dataset/test_data.txt\",delimiter=\":::\")\n",
    "test_DATA.head()"
   ]
  },
  {
   "cell_type": "markdown",
   "metadata": {},
   "source": [
    "we have to do the same thing with this new data\n"
   ]
  },
  {
   "cell_type": "code",
   "execution_count": 111,
   "metadata": {},
   "outputs": [
    {
     "data": {
      "text/plain": [
       "0    [l.r., brane, love, life, -, car,, apartment,,...\n",
       "1    [spain,, march, 1964:, quico, naughty, child, ...\n",
       "2    [one, year, life, albin, family, shepherd, nor...\n",
       "3    [father, died,, spoken, brother, 10, year, ser...\n",
       "4    [known, internationally, martial, art, superst...\n",
       "Name: DESCRIPTION, dtype: object"
      ]
     },
     "execution_count": 111,
     "metadata": {},
     "output_type": "execute_result"
    }
   ],
   "source": [
    "test_DATA['DESCRIPTION'] =test_DATA['DESCRIPTION'].astype(str)\n",
    "\n",
    "test_DATA['DESCRIPTION'] = test_DATA['DESCRIPTION'].str.lower().str.replace('[{}]'.format(string.punctuation), '').str.split()\n",
    "test_DATA['DESCRIPTION'] =test_DATA['DESCRIPTION'].apply(lambda x: [word for word in x if word not in stop_words]) \n",
    "test_DATA['DESCRIPTION']=test_DATA['DESCRIPTION'].apply(lambda x:[lemmatizer.lemmatize(word) for word in x])\n",
    "test_DATA['DESCRIPTION'].head(5)"
   ]
  },
  {
   "cell_type": "code",
   "execution_count": 112,
   "metadata": {},
   "outputs": [],
   "source": [
    "\n",
    "test_DATA['DESCRIPTION'] = test_DATA['DESCRIPTION'].apply(lambda x: ' '.join(x))\n",
    "X_test = count.transform(test_DATA['DESCRIPTION'])\n"
   ]
  },
  {
   "cell_type": "markdown",
   "metadata": {},
   "source": [
    "now we try to predict after the model is trained"
   ]
  },
  {
   "cell_type": "code",
   "execution_count": 113,
   "metadata": {},
   "outputs": [
    {
     "name": "stdout",
     "output_type": "stream",
     "text": [
      "[ 0  0  4 ...  5  8 13]\n"
     ]
    }
   ],
   "source": [
    "predictions = classifier.predict(X_test)\n",
    "print(predictions)\n"
   ]
  },
  {
   "cell_type": "markdown",
   "metadata": {},
   "source": [
    "now we have the predictions and we have the correct result in other file , wwe read rhis file and we must compare"
   ]
  },
  {
   "cell_type": "code",
   "execution_count": 114,
   "metadata": {},
   "outputs": [
    {
     "name": "stderr",
     "output_type": "stream",
     "text": [
      "C:\\Users\\ASUS\\AppData\\Local\\Temp\\ipykernel_19916\\2384565449.py:1: ParserWarning: Falling back to the 'python' engine because the 'c' engine does not support regex separators (separators > 1 char and different from '\\s+' are interpreted as regex); you can avoid this warning by specifying engine='python'.\n",
      "  true_DATA=pd.read_csv(\"dataset/test_data_solution.txt\",delimiter=\":::\",header=None)\n"
     ]
    },
    {
     "data": {
      "text/html": [
       "<div>\n",
       "<style scoped>\n",
       "    .dataframe tbody tr th:only-of-type {\n",
       "        vertical-align: middle;\n",
       "    }\n",
       "\n",
       "    .dataframe tbody tr th {\n",
       "        vertical-align: top;\n",
       "    }\n",
       "\n",
       "    .dataframe thead th {\n",
       "        text-align: right;\n",
       "    }\n",
       "</style>\n",
       "<table border=\"1\" class=\"dataframe\">\n",
       "  <thead>\n",
       "    <tr style=\"text-align: right;\">\n",
       "      <th></th>\n",
       "      <th>0</th>\n",
       "      <th>1</th>\n",
       "      <th>2</th>\n",
       "      <th>3</th>\n",
       "    </tr>\n",
       "  </thead>\n",
       "  <tbody>\n",
       "    <tr>\n",
       "      <th>0</th>\n",
       "      <td>1</td>\n",
       "      <td>Edgar's Lunch (1998)</td>\n",
       "      <td>thriller</td>\n",
       "      <td>L.R. Brane loves his life - his car, his apar...</td>\n",
       "    </tr>\n",
       "    <tr>\n",
       "      <th>1</th>\n",
       "      <td>2</td>\n",
       "      <td>La guerra de papá (1977)</td>\n",
       "      <td>comedy</td>\n",
       "      <td>Spain, March 1964: Quico is a very naughty ch...</td>\n",
       "    </tr>\n",
       "    <tr>\n",
       "      <th>2</th>\n",
       "      <td>3</td>\n",
       "      <td>Off the Beaten Track (2010)</td>\n",
       "      <td>documentary</td>\n",
       "      <td>One year in the life of Albin and his family ...</td>\n",
       "    </tr>\n",
       "    <tr>\n",
       "      <th>3</th>\n",
       "      <td>4</td>\n",
       "      <td>Meu Amigo Hindu (2015)</td>\n",
       "      <td>drama</td>\n",
       "      <td>His father has died, he hasn't spoken with hi...</td>\n",
       "    </tr>\n",
       "    <tr>\n",
       "      <th>4</th>\n",
       "      <td>5</td>\n",
       "      <td>Er nu zhai (1955)</td>\n",
       "      <td>drama</td>\n",
       "      <td>Before he was known internationally as a mart...</td>\n",
       "    </tr>\n",
       "  </tbody>\n",
       "</table>\n",
       "</div>"
      ],
      "text/plain": [
       "   0                              1              2  \\\n",
       "0  1          Edgar's Lunch (1998)       thriller    \n",
       "1  2      La guerra de papá (1977)         comedy    \n",
       "2  3   Off the Beaten Track (2010)    documentary    \n",
       "3  4        Meu Amigo Hindu (2015)          drama    \n",
       "4  5             Er nu zhai (1955)          drama    \n",
       "\n",
       "                                                   3  \n",
       "0   L.R. Brane loves his life - his car, his apar...  \n",
       "1   Spain, March 1964: Quico is a very naughty ch...  \n",
       "2   One year in the life of Albin and his family ...  \n",
       "3   His father has died, he hasn't spoken with hi...  \n",
       "4   Before he was known internationally as a mart...  "
      ]
     },
     "execution_count": 114,
     "metadata": {},
     "output_type": "execute_result"
    }
   ],
   "source": [
    "true_DATA=pd.read_csv(\"dataset/test_data_solution.txt\",delimiter=\":::\",header=None)\n",
    "true_DATA.head()"
   ]
  },
  {
   "cell_type": "code",
   "execution_count": 115,
   "metadata": {},
   "outputs": [
    {
     "data": {
      "text/html": [
       "<div>\n",
       "<style scoped>\n",
       "    .dataframe tbody tr th:only-of-type {\n",
       "        vertical-align: middle;\n",
       "    }\n",
       "\n",
       "    .dataframe tbody tr th {\n",
       "        vertical-align: top;\n",
       "    }\n",
       "\n",
       "    .dataframe thead th {\n",
       "        text-align: right;\n",
       "    }\n",
       "</style>\n",
       "<table border=\"1\" class=\"dataframe\">\n",
       "  <thead>\n",
       "    <tr style=\"text-align: right;\">\n",
       "      <th></th>\n",
       "      <th>id</th>\n",
       "      <th>title</th>\n",
       "      <th>GENRE</th>\n",
       "      <th>DESCRIPTION</th>\n",
       "    </tr>\n",
       "  </thead>\n",
       "  <tbody>\n",
       "    <tr>\n",
       "      <th>0</th>\n",
       "      <td>1</td>\n",
       "      <td>Edgar's Lunch (1998)</td>\n",
       "      <td>thriller</td>\n",
       "      <td>L.R. Brane loves his life - his car, his apar...</td>\n",
       "    </tr>\n",
       "    <tr>\n",
       "      <th>1</th>\n",
       "      <td>2</td>\n",
       "      <td>La guerra de papá (1977)</td>\n",
       "      <td>comedy</td>\n",
       "      <td>Spain, March 1964: Quico is a very naughty ch...</td>\n",
       "    </tr>\n",
       "    <tr>\n",
       "      <th>2</th>\n",
       "      <td>3</td>\n",
       "      <td>Off the Beaten Track (2010)</td>\n",
       "      <td>documentary</td>\n",
       "      <td>One year in the life of Albin and his family ...</td>\n",
       "    </tr>\n",
       "    <tr>\n",
       "      <th>3</th>\n",
       "      <td>4</td>\n",
       "      <td>Meu Amigo Hindu (2015)</td>\n",
       "      <td>drama</td>\n",
       "      <td>His father has died, he hasn't spoken with hi...</td>\n",
       "    </tr>\n",
       "    <tr>\n",
       "      <th>4</th>\n",
       "      <td>5</td>\n",
       "      <td>Er nu zhai (1955)</td>\n",
       "      <td>drama</td>\n",
       "      <td>Before he was known internationally as a mart...</td>\n",
       "    </tr>\n",
       "  </tbody>\n",
       "</table>\n",
       "</div>"
      ],
      "text/plain": [
       "   id                          title          GENRE  \\\n",
       "0   1          Edgar's Lunch (1998)       thriller    \n",
       "1   2      La guerra de papá (1977)         comedy    \n",
       "2   3   Off the Beaten Track (2010)    documentary    \n",
       "3   4        Meu Amigo Hindu (2015)          drama    \n",
       "4   5             Er nu zhai (1955)          drama    \n",
       "\n",
       "                                         DESCRIPTION  \n",
       "0   L.R. Brane loves his life - his car, his apar...  \n",
       "1   Spain, March 1964: Quico is a very naughty ch...  \n",
       "2   One year in the life of Albin and his family ...  \n",
       "3   His father has died, he hasn't spoken with hi...  \n",
       "4   Before he was known internationally as a mart...  "
      ]
     },
     "execution_count": 115,
     "metadata": {},
     "output_type": "execute_result"
    }
   ],
   "source": [
    "HEADER=['id','title','GENRE','DESCRIPTION']\n",
    "true_DATA.columns=HEADER\n",
    "true_DATA.head()\n"
   ]
  },
  {
   "cell_type": "code",
   "execution_count": 116,
   "metadata": {},
   "outputs": [
    {
     "data": {
      "text/html": [
       "<div>\n",
       "<style scoped>\n",
       "    .dataframe tbody tr th:only-of-type {\n",
       "        vertical-align: middle;\n",
       "    }\n",
       "\n",
       "    .dataframe tbody tr th {\n",
       "        vertical-align: top;\n",
       "    }\n",
       "\n",
       "    .dataframe thead th {\n",
       "        text-align: right;\n",
       "    }\n",
       "</style>\n",
       "<table border=\"1\" class=\"dataframe\">\n",
       "  <thead>\n",
       "    <tr style=\"text-align: right;\">\n",
       "      <th></th>\n",
       "      <th>id</th>\n",
       "      <th>title</th>\n",
       "      <th>GENRE</th>\n",
       "      <th>DESCRIPTION</th>\n",
       "    </tr>\n",
       "  </thead>\n",
       "  <tbody>\n",
       "    <tr>\n",
       "      <th>0</th>\n",
       "      <td>1</td>\n",
       "      <td>Edgar's Lunch (1998)</td>\n",
       "      <td>1</td>\n",
       "      <td>L.R. Brane loves his life - his car, his apar...</td>\n",
       "    </tr>\n",
       "    <tr>\n",
       "      <th>1</th>\n",
       "      <td>2</td>\n",
       "      <td>La guerra de papá (1977)</td>\n",
       "      <td>5</td>\n",
       "      <td>Spain, March 1964: Quico is a very naughty ch...</td>\n",
       "    </tr>\n",
       "    <tr>\n",
       "      <th>2</th>\n",
       "      <td>3</td>\n",
       "      <td>Off the Beaten Track (2010)</td>\n",
       "      <td>4</td>\n",
       "      <td>One year in the life of Albin and his family ...</td>\n",
       "    </tr>\n",
       "    <tr>\n",
       "      <th>3</th>\n",
       "      <td>4</td>\n",
       "      <td>Meu Amigo Hindu (2015)</td>\n",
       "      <td>0</td>\n",
       "      <td>His father has died, he hasn't spoken with hi...</td>\n",
       "    </tr>\n",
       "    <tr>\n",
       "      <th>4</th>\n",
       "      <td>5</td>\n",
       "      <td>Er nu zhai (1955)</td>\n",
       "      <td>0</td>\n",
       "      <td>Before he was known internationally as a mart...</td>\n",
       "    </tr>\n",
       "  </tbody>\n",
       "</table>\n",
       "</div>"
      ],
      "text/plain": [
       "   id                          title  GENRE  \\\n",
       "0   1          Edgar's Lunch (1998)       1   \n",
       "1   2      La guerra de papá (1977)       5   \n",
       "2   3   Off the Beaten Track (2010)       4   \n",
       "3   4        Meu Amigo Hindu (2015)       0   \n",
       "4   5             Er nu zhai (1955)       0   \n",
       "\n",
       "                                         DESCRIPTION  \n",
       "0   L.R. Brane loves his life - his car, his apar...  \n",
       "1   Spain, March 1964: Quico is a very naughty ch...  \n",
       "2   One year in the life of Albin and his family ...  \n",
       "3   His father has died, he hasn't spoken with hi...  \n",
       "4   Before he was known internationally as a mart...  "
      ]
     },
     "execution_count": 116,
     "metadata": {},
     "output_type": "execute_result"
    }
   ],
   "source": [
    "true_DATA['GENRE'] = true_DATA['GENRE'].str.strip()\n",
    "true_DATA['GENRE'] = true_DATA['GENRE'].replace(Classes)\n",
    "true_DATA.head()"
   ]
  },
  {
   "cell_type": "code",
   "execution_count": 117,
   "metadata": {},
   "outputs": [
    {
     "data": {
      "text/plain": [
       "array([[8179,  353,   44,  786, 1384,  101,   37,  181,    5,   38,  132,\n",
       "          48,  883,   39,    9,   82,    3,   52,  160,   67,   28,    4,\n",
       "          30,  260,    1,   46,   16],\n",
       "       [ 440,  517,   11,   30,  115,   93,    4,  198,    0,    4,   84,\n",
       "           7,  128,   31,    0,   18,    0,    7,    8,   61,    1,    1,\n",
       "           1,    5,    0,    2,    1],\n",
       "       [  64,    9,  299,   11,   46,    2,    4,    7,    1,    1,    4,\n",
       "           2,   25,    2,    2,  113,    0,    0,    1,    0,    0,    0,\n",
       "           1,   11,    0,    0,    0],\n",
       "       [1140,   41,   13, 9614,  318,   31,  119,   56,   66,   47,   62,\n",
       "          18, 1175,   41,   75,   64,   67,   10,   63,   18,  142,   61,\n",
       "         145,   14,    5,   27,   19],\n",
       "       [1295,  106,  115,  243, 4010,   48,  112,   81,    6,   59,   64,\n",
       "          11,  459,   21,   23,   51,   32,   15,  111,   26,    4,    7,\n",
       "          10,  115,   10,   67,    2],\n",
       "       [ 150,   68,    4,   45,   55,  105,    3,   13,    0,    0,   34,\n",
       "           1,   19,    2,    0,    7,    1,    1,    0,   13,    1,    0,\n",
       "           3,    0,    0,    1,    0],\n",
       "       [  42,    2,    5,  239,  140,    1,  407,    7,   24,    7,   16,\n",
       "           2,   48,    1,   17,   21,   47,    1,   51,    1,    2,   14,\n",
       "           5,    1,   22,    2,    0],\n",
       "       [ 197,  247,    8,   80,  142,   15,    7, 1392,    0,   21,   41,\n",
       "          29,  128,   48,    0,   25,    1,    6,   18,   47,    2,    1,\n",
       "           2,    4,    0,    2,    1],\n",
       "       [  17,    2,    7,  164,    9,    1,   24,    1,  278,    2,   40,\n",
       "           0,   26,    1,    3,    8,    1,    0,    6,    0,    0,    2,\n",
       "           5,    0,    7,    0,    0],\n",
       "       [  26,    3,    1,   17,   42,    0,    2,    3,    1,   96,   10,\n",
       "          35,   34,   10,    2,   33,    0,    1,   48,    0,    1,    0,\n",
       "           0,    1,    1,    6,    0],\n",
       "       [ 238,   77,   11,   68,  150,   57,   16,   35,    3,   30,  591,\n",
       "          17,   52,   35,    0,   56,    0,   21,    9,   13,    5,    0,\n",
       "           2,   14,    2,    9,   15],\n",
       "       [  30,    4,    2,   15,   24,    1,    0,   10,    0,   34,   17,\n",
       "          51,   34,   14,    1,   17,    1,    0,   11,    2,    1,    0,\n",
       "           1,    3,    0,    1,    0],\n",
       "       [ 853,   61,   33,  706,  309,    6,   30,   74,   11,   43,   18,\n",
       "          43, 1735,   48,   25,   20,    9,    6,   38,   24,    3,    6,\n",
       "           9,   33,    1,   13,    2],\n",
       "       [  41,   37,    5,  102,   46,    5,    6,   52,    0,   29,   82,\n",
       "          24,   52,  322,    1,   36,    2,    0,    9,    3,    3,    0,\n",
       "           0,    0,    1,    0,    5],\n",
       "       [  29,    0,    3,  440,  108,    0,   24,   19,   15,    8,    7,\n",
       "           1,   72,    1,  528,    3,   34,    1,   20,    2,    2,   12,\n",
       "          16,    1,    5,   47,    0],\n",
       "       [  76,   10,   21,   49,   54,    7,    7,   23,    3,   22,   39,\n",
       "          18,   20,   14,    1,  163,    0,    8,   16,    2,    7,    0,\n",
       "           5,    0,    1,    1,    1],\n",
       "       [  19,    0,    0,  105,  101,    0,   33,    8,    9,    4,    2,\n",
       "           1,   16,    1,   16,    1,  171,    0,   28,    2,    1,   39,\n",
       "           8,    1,    6,    3,    0],\n",
       "       [ 115,    7,    1,    7,   51,    7,    0,    4,    1,    2,   11,\n",
       "           0,   12,    1,    0,   24,    0,  898,    1,    6,    0,    1,\n",
       "           0,    1,    0,    1,    0],\n",
       "       [  60,    0,    0,   54,   71,    1,   15,    9,    4,   42,    5,\n",
       "           0,   55,    4,    5,   15,    3,    0,  156,    1,    2,    4,\n",
       "           1,    2,    4,    5,    0],\n",
       "       [  30,   21,    1,   10,    8,   13,    1,    8,    0,    1,    4,\n",
       "           2,    8,    3,    0,    5,    0,    0,    0,   24,    0,    0,\n",
       "           0,    1,    0,    3,    0],\n",
       "       [  65,    2,    0,  110,    6,    0,    0,    1,    0,    1,    9,\n",
       "           1,   10,    2,    2,    5,    0,    2,    3,    1,   23,    0,\n",
       "           5,    1,    0,    0,    8],\n",
       "       [   6,    0,    0,   37,    9,    2,   16,    3,    1,    0,    2,\n",
       "           1,    4,    1,    4,    0,   14,    2,    1,    0,    1,   25,\n",
       "           3,    1,    0,    0,    0],\n",
       "       [  37,    0,    3,   74,   10,    2,    2,    1,    0,    1,    0,\n",
       "           2,   14,    0,    2,    0,    1,    0,    1,    0,    4,    1,\n",
       "           9,    1,    0,    1,    0],\n",
       "       [ 358,   19,    2,   17,  191,    5,    5,   11,    1,    4,   18,\n",
       "           8,   45,    1,    0,    1,    0,    1,   13,    3,    0,    0,\n",
       "           0,  198,    0,    5,    0],\n",
       "       [   1,    1,    0,    2,    7,    0,    7,    0,    1,    1,    2,\n",
       "           0,    2,    0,    1,    1,    1,    0,    8,    0,    1,    2,\n",
       "           0,    0,  127,    1,    0],\n",
       "       [  41,    2,    0,   16,   34,    0,    0,    3,    1,    1,    6,\n",
       "           0,    5,    0,   14,    1,    3,    0,    3,    2,    0,    0,\n",
       "           2,    4,    0,   33,    0],\n",
       "       [  63,    1,    1,   55,    6,    2,    2,    4,    0,    0,   14,\n",
       "           0,   11,    3,    0,    5,    0,    0,    0,    0,    9,    1,\n",
       "           1,    0,    0,    0,   62]], dtype=int64)"
      ]
     },
     "execution_count": 117,
     "metadata": {},
     "output_type": "execute_result"
    }
   ],
   "source": [
    "from sklearn.metrics import confusion_matrix\n",
    "matrix=confusion_matrix(predictions,true_DATA['GENRE'])\n",
    "matrix"
   ]
  },
  {
   "cell_type": "code",
   "execution_count": 121,
   "metadata": {},
   "outputs": [
    {
     "name": "stdout",
     "output_type": "stream",
     "text": [
      "0.5537453874538746\n"
     ]
    }
   ],
   "source": [
    " from sklearn.metrics import accuracy_score\n",
    "accuracy1=accuracy_score(predictions,true_DATA['GENRE'])\n",
    "print(accuracy1)"
   ]
  },
  {
   "cell_type": "code",
   "execution_count": 122,
   "metadata": {},
   "outputs": [
    {
     "data": {
      "text/html": [
       "<div>\n",
       "<style scoped>\n",
       "    .dataframe tbody tr th:only-of-type {\n",
       "        vertical-align: middle;\n",
       "    }\n",
       "\n",
       "    .dataframe tbody tr th {\n",
       "        vertical-align: top;\n",
       "    }\n",
       "\n",
       "    .dataframe thead th {\n",
       "        text-align: right;\n",
       "    }\n",
       "</style>\n",
       "<table border=\"1\" class=\"dataframe\">\n",
       "  <thead>\n",
       "    <tr style=\"text-align: right;\">\n",
       "      <th></th>\n",
       "      <th>id</th>\n",
       "      <th>title</th>\n",
       "      <th>GENRE</th>\n",
       "      <th>DESCRIPTION</th>\n",
       "    </tr>\n",
       "  </thead>\n",
       "  <tbody>\n",
       "    <tr>\n",
       "      <th>54197</th>\n",
       "      <td>54198</td>\n",
       "      <td>Oliver Twink (2007)</td>\n",
       "      <td>3</td>\n",
       "      <td>A movie 169 years in the making. Oliver Twist...</td>\n",
       "    </tr>\n",
       "    <tr>\n",
       "      <th>54198</th>\n",
       "      <td>54199</td>\n",
       "      <td>Slipstream (1973)</td>\n",
       "      <td>0</td>\n",
       "      <td>Popular, but mysterious rock D.J Mike Mallard...</td>\n",
       "    </tr>\n",
       "    <tr>\n",
       "      <th>54199</th>\n",
       "      <td>54200</td>\n",
       "      <td>Curitiba Zero Grau (2010)</td>\n",
       "      <td>0</td>\n",
       "      <td>Curitiba is a city in movement, with rhythms ...</td>\n",
       "    </tr>\n",
       "  </tbody>\n",
       "</table>\n",
       "</div>"
      ],
      "text/plain": [
       "          id                        title  GENRE  \\\n",
       "54197  54198         Oliver Twink (2007)       3   \n",
       "54198  54199           Slipstream (1973)       0   \n",
       "54199  54200   Curitiba Zero Grau (2010)       0   \n",
       "\n",
       "                                             DESCRIPTION  \n",
       "54197   A movie 169 years in the making. Oliver Twist...  \n",
       "54198   Popular, but mysterious rock D.J Mike Mallard...  \n",
       "54199   Curitiba is a city in movement, with rhythms ...  "
      ]
     },
     "execution_count": 122,
     "metadata": {},
     "output_type": "execute_result"
    }
   ],
   "source": [
    "dernieres_lignes = true_DATA.tail(3)\n",
    "dernieres_lignes"
   ]
  },
  {
   "cell_type": "markdown",
   "metadata": {},
   "source": [
    "NOW AFTER seeing the score is 55% , we can try another algorithme \n",
    "RANDOME FOREST CLASSIFIER"
   ]
  },
  {
   "cell_type": "code",
   "execution_count": 128,
   "metadata": {},
   "outputs": [
    {
     "name": "stdout",
     "output_type": "stream",
     "text": [
      "ok\n"
     ]
    }
   ],
   "source": [
    "import pandas as pd\n",
    "from sklearn.model_selection import train_test_split\n",
    "from sklearn.feature_extraction.text import CountVectorizer\n",
    "from sklearn.ensemble import RandomForestClassifier\n",
    "from sklearn.metrics import accuracy_score, classification_report\n",
    "\n",
    "vectorizer = CountVectorizer(max_features=10000, ngram_range=(1, 2))\n",
    "X = vectorizer.fit_transform(DATA['DESCRIPTION'])\n",
    "X_test = vectorizer.transform(test_DATA['DESCRIPTION'])\n",
    "print(\"ok\")\n"
   ]
  },
  {
   "cell_type": "code",
   "execution_count": 132,
   "metadata": {},
   "outputs": [
    {
     "name": "stdout",
     "output_type": "stream",
     "text": [
      "ok\n"
     ]
    }
   ],
   "source": [
    "Y = DATA['GENRE'].values\n",
    "classifier2 = RandomForestClassifier(n_estimators=100, random_state=42)\n",
    "classifier2.fit(X, Y)\n",
    "print(\"ok\")"
   ]
  },
  {
   "cell_type": "code",
   "execution_count": 134,
   "metadata": {},
   "outputs": [
    {
     "name": "stdout",
     "output_type": "stream",
     "text": [
      "[0 0 4 ... 0 0 4]\n"
     ]
    }
   ],
   "source": [
    "predictions2=classifier2.predict(X_test)\n",
    "print(predictions2)"
   ]
  },
  {
   "cell_type": "code",
   "execution_count": 135,
   "metadata": {},
   "outputs": [
    {
     "data": {
      "text/plain": [
       "0.49719557195571956"
      ]
     },
     "execution_count": 135,
     "metadata": {},
     "output_type": "execute_result"
    }
   ],
   "source": [
    "accuracy2=accuracy_score(predictions2,true_DATA['GENRE'])\n",
    "accuracy2"
   ]
  },
  {
   "cell_type": "markdown",
   "metadata": {},
   "source": [
    "NOW LOGISTIC REGRESSION"
   ]
  },
  {
   "cell_type": "code",
   "execution_count": 136,
   "metadata": {},
   "outputs": [
    {
     "data": {
      "text/html": [
       "<style>#sk-container-id-7 {color: black;}#sk-container-id-7 pre{padding: 0;}#sk-container-id-7 div.sk-toggleable {background-color: white;}#sk-container-id-7 label.sk-toggleable__label {cursor: pointer;display: block;width: 100%;margin-bottom: 0;padding: 0.3em;box-sizing: border-box;text-align: center;}#sk-container-id-7 label.sk-toggleable__label-arrow:before {content: \"▸\";float: left;margin-right: 0.25em;color: #696969;}#sk-container-id-7 label.sk-toggleable__label-arrow:hover:before {color: black;}#sk-container-id-7 div.sk-estimator:hover label.sk-toggleable__label-arrow:before {color: black;}#sk-container-id-7 div.sk-toggleable__content {max-height: 0;max-width: 0;overflow: hidden;text-align: left;background-color: #f0f8ff;}#sk-container-id-7 div.sk-toggleable__content pre {margin: 0.2em;color: black;border-radius: 0.25em;background-color: #f0f8ff;}#sk-container-id-7 input.sk-toggleable__control:checked~div.sk-toggleable__content {max-height: 200px;max-width: 100%;overflow: auto;}#sk-container-id-7 input.sk-toggleable__control:checked~label.sk-toggleable__label-arrow:before {content: \"▾\";}#sk-container-id-7 div.sk-estimator input.sk-toggleable__control:checked~label.sk-toggleable__label {background-color: #d4ebff;}#sk-container-id-7 div.sk-label input.sk-toggleable__control:checked~label.sk-toggleable__label {background-color: #d4ebff;}#sk-container-id-7 input.sk-hidden--visually {border: 0;clip: rect(1px 1px 1px 1px);clip: rect(1px, 1px, 1px, 1px);height: 1px;margin: -1px;overflow: hidden;padding: 0;position: absolute;width: 1px;}#sk-container-id-7 div.sk-estimator {font-family: monospace;background-color: #f0f8ff;border: 1px dotted black;border-radius: 0.25em;box-sizing: border-box;margin-bottom: 0.5em;}#sk-container-id-7 div.sk-estimator:hover {background-color: #d4ebff;}#sk-container-id-7 div.sk-parallel-item::after {content: \"\";width: 100%;border-bottom: 1px solid gray;flex-grow: 1;}#sk-container-id-7 div.sk-label:hover label.sk-toggleable__label {background-color: #d4ebff;}#sk-container-id-7 div.sk-serial::before {content: \"\";position: absolute;border-left: 1px solid gray;box-sizing: border-box;top: 0;bottom: 0;left: 50%;z-index: 0;}#sk-container-id-7 div.sk-serial {display: flex;flex-direction: column;align-items: center;background-color: white;padding-right: 0.2em;padding-left: 0.2em;position: relative;}#sk-container-id-7 div.sk-item {position: relative;z-index: 1;}#sk-container-id-7 div.sk-parallel {display: flex;align-items: stretch;justify-content: center;background-color: white;position: relative;}#sk-container-id-7 div.sk-item::before, #sk-container-id-7 div.sk-parallel-item::before {content: \"\";position: absolute;border-left: 1px solid gray;box-sizing: border-box;top: 0;bottom: 0;left: 50%;z-index: -1;}#sk-container-id-7 div.sk-parallel-item {display: flex;flex-direction: column;z-index: 1;position: relative;background-color: white;}#sk-container-id-7 div.sk-parallel-item:first-child::after {align-self: flex-end;width: 50%;}#sk-container-id-7 div.sk-parallel-item:last-child::after {align-self: flex-start;width: 50%;}#sk-container-id-7 div.sk-parallel-item:only-child::after {width: 0;}#sk-container-id-7 div.sk-dashed-wrapped {border: 1px dashed gray;margin: 0 0.4em 0.5em 0.4em;box-sizing: border-box;padding-bottom: 0.4em;background-color: white;}#sk-container-id-7 div.sk-label label {font-family: monospace;font-weight: bold;display: inline-block;line-height: 1.2em;}#sk-container-id-7 div.sk-label-container {text-align: center;}#sk-container-id-7 div.sk-container {/* jupyter's `normalize.less` sets `[hidden] { display: none; }` but bootstrap.min.css set `[hidden] { display: none !important; }` so we also need the `!important` here to be able to override the default hidden behavior on the sphinx rendered scikit-learn.org. See: https://github.com/scikit-learn/scikit-learn/issues/21755 */display: inline-block !important;position: relative;}#sk-container-id-7 div.sk-text-repr-fallback {display: none;}</style><div id=\"sk-container-id-7\" class=\"sk-top-container\"><div class=\"sk-text-repr-fallback\"><pre>LogisticRegression(max_iter=1000, random_state=42)</pre><b>In a Jupyter environment, please rerun this cell to show the HTML representation or trust the notebook. <br />On GitHub, the HTML representation is unable to render, please try loading this page with nbviewer.org.</b></div><div class=\"sk-container\" hidden><div class=\"sk-item\"><div class=\"sk-estimator sk-toggleable\"><input class=\"sk-toggleable__control sk-hidden--visually\" id=\"sk-estimator-id-7\" type=\"checkbox\" checked><label for=\"sk-estimator-id-7\" class=\"sk-toggleable__label sk-toggleable__label-arrow\">LogisticRegression</label><div class=\"sk-toggleable__content\"><pre>LogisticRegression(max_iter=1000, random_state=42)</pre></div></div></div></div></div>"
      ],
      "text/plain": [
       "LogisticRegression(max_iter=1000, random_state=42)"
      ]
     },
     "execution_count": 136,
     "metadata": {},
     "output_type": "execute_result"
    }
   ],
   "source": [
    "from sklearn.linear_model import LogisticRegression\n",
    "classifier3 = LogisticRegression(max_iter=1000, random_state=42)\n",
    "classifier3.fit(X, Y)\n"
   ]
  },
  {
   "cell_type": "code",
   "execution_count": 137,
   "metadata": {},
   "outputs": [
    {
     "data": {
      "text/plain": [
       "array([ 5,  0,  4, ...,  5,  8, 13], dtype=int64)"
      ]
     },
     "execution_count": 137,
     "metadata": {},
     "output_type": "execute_result"
    }
   ],
   "source": [
    "predicitions3=classifier3.predict(X_test)\n",
    "predicitions3"
   ]
  },
  {
   "cell_type": "code",
   "execution_count": 138,
   "metadata": {},
   "outputs": [
    {
     "data": {
      "text/plain": [
       "0.5430627306273063"
      ]
     },
     "execution_count": 138,
     "metadata": {},
     "output_type": "execute_result"
    }
   ],
   "source": [
    "accuracy3 = accuracy_score(predicitions3,true_DATA['GENRE'])\n",
    "accuracy3"
   ]
  },
  {
   "cell_type": "code",
   "execution_count": 139,
   "metadata": {},
   "outputs": [
    {
     "name": "stdout",
     "output_type": "stream",
     "text": [
      "              precision    recall  f1-score   support\n",
      "\n",
      "           0       0.56      0.64      0.60     13612\n",
      "           1       0.25      0.21      0.23      1590\n",
      "           3       0.57      0.39      0.46       590\n",
      "           4       0.69      0.75      0.72     13096\n",
      "           5       0.50      0.55      0.52      7446\n",
      "           6       0.17      0.09      0.12       505\n",
      "           7       0.41      0.32      0.36       883\n",
      "           8       0.61      0.56      0.58      2204\n",
      "           9       0.54      0.37      0.44       431\n",
      "          10       0.27      0.14      0.19       498\n",
      "          11       0.37      0.32      0.35      1314\n",
      "          12       0.27      0.11      0.16       322\n",
      "          13       0.35      0.38      0.36      5072\n",
      "          14       0.44      0.30      0.36       646\n",
      "          15       0.57      0.46      0.51       731\n",
      "          16       0.38      0.25      0.31       775\n",
      "          17       0.48      0.32      0.39       391\n",
      "          18       0.88      0.76      0.82      1032\n",
      "          19       0.25      0.16      0.20       783\n",
      "          20       0.20      0.07      0.10       318\n",
      "          21       0.12      0.03      0.05       243\n",
      "          22       0.36      0.14      0.20       181\n",
      "          23       0.06      0.02      0.03       264\n",
      "          24       0.25      0.15      0.19       672\n",
      "          25       0.83      0.58      0.68       193\n",
      "          26       0.25      0.10      0.15       276\n",
      "          27       0.45      0.19      0.27       132\n",
      "\n",
      "    accuracy                           0.54     54200\n",
      "   macro avg       0.41      0.31      0.35     54200\n",
      "weighted avg       0.53      0.54      0.53     54200\n",
      "\n"
     ]
    }
   ],
   "source": [
    "report = classification_report(true_DATA['GENRE'],predicitions3)\n",
    "print(report)"
   ]
  },
  {
   "cell_type": "code",
   "execution_count": null,
   "metadata": {},
   "outputs": [],
   "source": [
    "resume = {\n",
    "    \"Méthode\": [ \"MultinomialNB\", \"RandomForest\",\"LogisticRegression\"],\n",
    "    \"ACCRURACY\": [accuracy, accuracy2, accuracy3],\n",
    "    \"Precision\": [A, B, C,D]\n",
    "}\n",
    "\n",
    "data = pd.DataFrame(resume)"
   ]
  }
 ],
 "metadata": {
  "kernelspec": {
   "display_name": "Python 3 (ipykernel)",
   "language": "python",
   "name": "python3"
  },
  "language_info": {
   "codemirror_mode": {
    "name": "ipython",
    "version": 3
   },
   "file_extension": ".py",
   "mimetype": "text/x-python",
   "name": "python",
   "nbconvert_exporter": "python",
   "pygments_lexer": "ipython3",
   "version": "3.11.5"
  }
 },
 "nbformat": 4,
 "nbformat_minor": 2
}
